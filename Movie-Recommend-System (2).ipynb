{
 "cells": [
  {
   "cell_type": "code",
   "execution_count": null,
   "id": "5c4a9b67-f662-43f3-b0af-2a9c348635c2",
   "metadata": {},
   "outputs": [],
   "source": [
    "import pandas as pd \n",
    "import numpy as np "
   ]
  },
  {
   "cell_type": "code",
   "execution_count": null,
   "id": "45313c7f-9d5b-4367-8699-a6300c85c37a",
   "metadata": {},
   "outputs": [],
   "source": [
    "movies = pd.read_csv('tmdb_5000_movies.csv.zip')\n",
    "credits = pd.read_csv('tmdb_5000_credits.csv.zip')"
   ]
  },
  {
   "cell_type": "code",
   "execution_count": null,
   "id": "36fd010b-121c-4148-a51d-2acf4a9840b0",
   "metadata": {},
   "outputs": [],
   "source": [
    "movies.head().shape"
   ]
  },
  {
   "cell_type": "code",
   "execution_count": null,
   "id": "23c8dcf8-793a-42b2-bb76-862dca2a6024",
   "metadata": {},
   "outputs": [],
   "source": [
    "credits.head().shape"
   ]
  },
  {
   "cell_type": "code",
   "execution_count": null,
   "id": "cabe3f63-50c1-4366-b1a2-1488f9a2c75f",
   "metadata": {},
   "outputs": [],
   "source": []
  },
  {
   "cell_type": "code",
   "execution_count": null,
   "id": "83446195-44f4-4c7f-9811-840e4c29c79a",
   "metadata": {},
   "outputs": [],
   "source": [
    "movies = movies.merge(credits, on = 'title')"
   ]
  },
  {
   "cell_type": "code",
   "execution_count": null,
   "id": "1e929ec0-ae99-4806-b078-0c2b51f130ee",
   "metadata": {},
   "outputs": [],
   "source": [
    "movies.shape"
   ]
  },
  {
   "cell_type": "code",
   "execution_count": null,
   "id": "3f50e1cf-418f-49d1-88d2-a634c389c167",
   "metadata": {},
   "outputs": [],
   "source": [
    "movies.head(1)"
   ]
  },
  {
   "cell_type": "markdown",
   "id": "1caa5d0a-faa2-4a24-9214-b30e68a754b8",
   "metadata": {},
   "source": [
    "##### use data columns"
   ]
  },
  {
   "cell_type": "code",
   "execution_count": null,
   "id": "6d5ca5d1-03b3-45bb-a67e-c3b634a8a1e2",
   "metadata": {},
   "outputs": [],
   "source": [
    "# genres\n",
    "# id\n",
    "# keywords\n",
    "# title\n",
    "# overview\n",
    "# cast                  \n",
    "# crew\n",
    "movies = movies[['movie_id','title','keywords','genres','cast','crew','overview']]"
   ]
  },
  {
   "cell_type": "code",
   "execution_count": null,
   "id": "1e9ce663-1442-4bae-b8f8-51e882308035",
   "metadata": {},
   "outputs": [],
   "source": [
    "movies.head(1)"
   ]
  },
  {
   "cell_type": "code",
   "execution_count": null,
   "id": "c5b28def-4800-46c3-8756-3916b7cb137d",
   "metadata": {},
   "outputs": [],
   "source": [
    "movies.info()"
   ]
  },
  {
   "cell_type": "code",
   "execution_count": null,
   "id": "232dbd7f-5fbc-48b2-8560-023d755d3807",
   "metadata": {},
   "outputs": [],
   "source": [
    "movies.isnull().sum()"
   ]
  },
  {
   "cell_type": "code",
   "execution_count": null,
   "id": "98aef97f-f9ac-413f-bc2a-242d34688e43",
   "metadata": {},
   "outputs": [],
   "source": [
    "movies.dropna(inplace = True)"
   ]
  },
  {
   "cell_type": "code",
   "execution_count": null,
   "id": "034889d1-11f0-4fff-a144-a226c4d463ac",
   "metadata": {},
   "outputs": [],
   "source": [
    "movies.isnull().sum()"
   ]
  },
  {
   "cell_type": "markdown",
   "id": "9f78dcb8-eb76-4546-bc9c-7d577c17ed5b",
   "metadata": {},
   "source": []
  },
  {
   "cell_type": "code",
   "execution_count": null,
   "id": "6f1e85ff-9460-4df2-9a8a-7f5f22e60323",
   "metadata": {},
   "outputs": [],
   "source": [
    "movies.duplicated().sum()"
   ]
  },
  {
   "cell_type": "markdown",
   "id": "bd3fefdf-9073-4eb1-b633-b138e6e6ab7e",
   "metadata": {},
   "source": [
    "## set the data of genres columns "
   ]
  },
  {
   "cell_type": "code",
   "execution_count": null,
   "id": "863f4bfa-dca5-4038-bba3-11f16b8f72da",
   "metadata": {},
   "outputs": [],
   "source": [
    "movies.iloc[0].genres"
   ]
  },
  {
   "cell_type": "code",
   "execution_count": null,
   "id": "af554ebc-783a-41db-b25f-5677bf42add8",
   "metadata": {},
   "outputs": [],
   "source": [
    "# '[{\"id\": 28, \"name\": \"Action\"}, {\"id\": 12, \"name\": \"Adventure\"}, {\"id\": 14, \"name\": \"Fantasy\"}, {\"id\": 878, \"name\": \"Science Fiction\"}]\n",
    "\n",
    "# ['Action ,Adventure ,Fantasy,Science Fiction]"
   ]
  },
  {
   "cell_type": "code",
   "execution_count": null,
   "id": "bf469ffc-426f-4e82-8af5-c125e967f632",
   "metadata": {},
   "outputs": [],
   "source": []
  },
  {
   "cell_type": "code",
   "execution_count": null,
   "id": "28458276-2c2f-47ed-b619-e462bc70f934",
   "metadata": {},
   "outputs": [],
   "source": [
    "import ast\n",
    "def convert(obj):\n",
    "    l = []\n",
    "    for i in ast.literal_eval(obj):\n",
    "        l.append(i['name'])\n",
    "    return l    "
   ]
  },
  {
   "cell_type": "code",
   "execution_count": null,
   "id": "87d05e77-feb2-41c2-8586-35a7e51001eb",
   "metadata": {},
   "outputs": [],
   "source": [
    "#import ast\n",
    "#ast.literal_eval('[{\"id\": 28, \"name\": \"Action\"}, {\"id\": 12, \"name\": \"Adventure\"}, {\"id\": 14, \"name\": \"Fantasy\"}, {\"id\": 878, \"name\": \"Science Fiction\"}]')"
   ]
  },
  {
   "cell_type": "code",
   "execution_count": null,
   "id": "50eac5b0-b3a8-47e7-b55e-62b137b48983",
   "metadata": {},
   "outputs": [],
   "source": [
    "movies['genres'] = movies['genres'].apply(convert)"
   ]
  },
  {
   "cell_type": "code",
   "execution_count": null,
   "id": "884ce703-5742-4404-982d-8f19c96a4845",
   "metadata": {},
   "outputs": [],
   "source": [
    "movies.head(1)"
   ]
  },
  {
   "cell_type": "code",
   "execution_count": null,
   "id": "3b69afbc-5227-4653-b323-09f8b958ef77",
   "metadata": {},
   "outputs": [],
   "source": [
    "movies['keywords'] = movies['keywords'].apply(convert)"
   ]
  },
  {
   "cell_type": "code",
   "execution_count": null,
   "id": "c7458ed5-c9f1-482b-b40f-5da64de8e746",
   "metadata": {},
   "outputs": [],
   "source": [
    "movies.head(1)"
   ]
  },
  {
   "cell_type": "code",
   "execution_count": null,
   "id": "204192f3-a209-4829-b3e2-fb179e71ece9",
   "metadata": {},
   "outputs": [],
   "source": [
    "movies['cast']        #actors"
   ]
  },
  {
   "cell_type": "code",
   "execution_count": null,
   "id": "eb2d39c2-a4ba-43e7-9054-85ac7045bbf3",
   "metadata": {},
   "outputs": [],
   "source": []
  },
  {
   "cell_type": "code",
   "execution_count": null,
   "id": "8d95db2f-a3a0-42df-b9f3-b22b2200a44c",
   "metadata": {},
   "outputs": [],
   "source": [
    "def convert3(obj):\n",
    "    l = []\n",
    "    counter = 0\n",
    "    for i in ast.literal_eval(obj):\n",
    "        if counter != 3 :\n",
    "            l.append(i['name'])\n",
    "            counter+1\n",
    "        else:\n",
    "            break\n",
    "    return l    "
   ]
  },
  {
   "cell_type": "code",
   "execution_count": null,
   "id": "e6128166-298a-49c6-ae70-f4fa5d94d103",
   "metadata": {},
   "outputs": [],
   "source": [
    "movies['cast'] = movies['cast'].apply(convert3)"
   ]
  },
  {
   "cell_type": "code",
   "execution_count": null,
   "id": "b74e3999-13ec-46f8-9a5c-66e4598d2e44",
   "metadata": {},
   "outputs": [],
   "source": [
    "movies.head(1)"
   ]
  },
  {
   "cell_type": "code",
   "execution_count": null,
   "id": "5e909f6c-d380-4dc0-a608-7cb0bb5df7c4",
   "metadata": {},
   "outputs": [],
   "source": [
    "movies['crew']"
   ]
  },
  {
   "cell_type": "code",
   "execution_count": null,
   "id": "4330b434-b9c4-46af-8686-bccc5dc8363e",
   "metadata": {},
   "outputs": [],
   "source": []
  },
  {
   "cell_type": "code",
   "execution_count": null,
   "id": "63a67e3a-85dc-462c-8012-a59eacae5bf8",
   "metadata": {},
   "outputs": [],
   "source": [
    "import ast\n",
    "def fetch_director(obj):\n",
    "    l = []\n",
    "    for i in ast.literal_eval(obj):\n",
    "        if i['job'] == 'Director':\n",
    "            l.append(i['name'])\n",
    "            break\n",
    "    return l    "
   ]
  },
  {
   "cell_type": "code",
   "execution_count": null,
   "id": "900ac6fb-1746-4343-9d74-0dbdf08b3224",
   "metadata": {},
   "outputs": [],
   "source": [
    "movies['crew'].apply(fetch_director)"
   ]
  },
  {
   "cell_type": "markdown",
   "id": "bc2ff85c-d928-46eb-9e6b-48375b8c449b",
   "metadata": {},
   "source": [
    "movies.head()"
   ]
  },
  {
   "cell_type": "code",
   "execution_count": null,
   "id": "057e565e-f910-4b70-9dde-50e0e419e319",
   "metadata": {},
   "outputs": [],
   "source": [
    "movies['overview'][0]"
   ]
  },
  {
   "cell_type": "code",
   "execution_count": null,
   "id": "4b38aa5e-af6f-4820-ab7b-722ce9d8955f",
   "metadata": {},
   "outputs": [],
   "source": [
    "movies['overview'] = movies['overview'].apply(lambda x:x.split())"
   ]
  },
  {
   "cell_type": "code",
   "execution_count": null,
   "id": "8fe8fa2c-dca8-4115-a719-414666cdd500",
   "metadata": {},
   "outputs": [],
   "source": [
    "movies.head(1)"
   ]
  },
  {
   "cell_type": "code",
   "execution_count": null,
   "id": "24bba487-6fef-4441-a8af-6bcea9dabf5e",
   "metadata": {},
   "outputs": [],
   "source": [
    "movies['genres'].apply(lambda x:[i.replace(\" \",\" \") for i in x])"
   ]
  },
  {
   "cell_type": "code",
   "execution_count": null,
   "id": "f99a2b4d-023f-45aa-951e-29433c90bc74",
   "metadata": {},
   "outputs": [],
   "source": [
    "movies['genres'] = movies['genres'].apply(lambda x:[i.replace(' ','') for i in x])\n",
    "movies['keywords'] = movies['keywords'].apply(lambda x:[i.replace(\" \",\"\") for i in x])\n",
    "movies['cast'] = movies['cast'].apply(lambda x:[i.replace(\" \",\"\") for i in x])\n",
    "movies['crew'] = movies['crew'].apply(lambda x:[i.replace(\" \",\"\") for i in x])"
   ]
  },
  {
   "cell_type": "code",
   "execution_count": null,
   "id": "e5d7bc2e-d083-4726-95ef-2241da1005f8",
   "metadata": {},
   "outputs": [],
   "source": [
    "movies.head(1)"
   ]
  },
  {
   "cell_type": "code",
   "execution_count": null,
   "id": "3f2c522a-65b5-49e7-95a2-a3a1d77a80cb",
   "metadata": {},
   "outputs": [],
   "source": [
    "movies['tags'] =  movies['overview'] + movies['keywords'] + movies['genres'] + movies['cast'] + movies['crew']"
   ]
  },
  {
   "cell_type": "code",
   "execution_count": null,
   "id": "7d42efd6-4e02-4d77-b242-a9e10125e5a8",
   "metadata": {},
   "outputs": [],
   "source": [
    "movies.head(1)"
   ]
  },
  {
   "cell_type": "code",
   "execution_count": null,
   "id": "51e0fc99-5f89-4a66-8413-fddabdfa32f8",
   "metadata": {},
   "outputs": [],
   "source": [
    "new_df = movies[['movie_id','title','tags']]"
   ]
  },
  {
   "cell_type": "code",
   "execution_count": null,
   "id": "18a48837-9bd4-46fe-966d-aad819a234e7",
   "metadata": {},
   "outputs": [],
   "source": [
    "new_df['tags'] = new_df['tags'].apply(lambda x :\" \".join(x))"
   ]
  },
  {
   "cell_type": "code",
   "execution_count": null,
   "id": "66117194-b928-4af9-9acf-aa2ac517e797",
   "metadata": {},
   "outputs": [],
   "source": [
    "new_df.head()"
   ]
  },
  {
   "cell_type": "code",
   "execution_count": null,
   "id": "f0d2d3c8-86eb-41c9-be8d-6d2ba6c1e3ff",
   "metadata": {},
   "outputs": [],
   "source": [
    "new_df['tags']"
   ]
  },
  {
   "cell_type": "code",
   "execution_count": null,
   "id": "e68ac294-c52a-472b-bc0f-5abc197f1bde",
   "metadata": {},
   "outputs": [],
   "source": [
    "new_df['tags'] = new_df['tags'].apply(lambda x : x.lower())"
   ]
  },
  {
   "cell_type": "code",
   "execution_count": null,
   "id": "0f3e42cc-a506-403b-bcc6-02657cf93695",
   "metadata": {},
   "outputs": [],
   "source": [
    "new_df.head()"
   ]
  },
  {
   "cell_type": "code",
   "execution_count": null,
   "id": "c449260e-629e-480e-9626-2b8866c5551e",
   "metadata": {},
   "outputs": [],
   "source": []
  },
  {
   "cell_type": "code",
   "execution_count": null,
   "id": "2b9aa5e2-f9ec-41e1-97f1-d7c345aa56ad",
   "metadata": {},
   "outputs": [],
   "source": [
    "from sklearn.feature_extraction.text import CountVectorizer\n",
    "cv = CountVectorizer(max_features=5000,stop_words='english')"
   ]
  },
  {
   "cell_type": "code",
   "execution_count": null,
   "id": "d181c1c1-85cd-4808-a50c-0539a45f31c5",
   "metadata": {},
   "outputs": [],
   "source": [
    "vectors = cv.fit_transform(new_df['tags']).toarray()"
   ]
  },
  {
   "cell_type": "code",
   "execution_count": null,
   "id": "0dd55b5e-a640-43c1-a89a-54d645b19a70",
   "metadata": {},
   "outputs": [],
   "source": [
    "vectors[0]"
   ]
  },
  {
   "cell_type": "code",
   "execution_count": null,
   "id": "4483c8d7-7f15-4c1a-86ac-b97d3f352588",
   "metadata": {},
   "outputs": [],
   "source": [
    "feature_names = cv.get_feature_names_out()\n",
    "print(feature_names)"
   ]
  },
  {
   "cell_type": "code",
   "execution_count": null,
   "id": "97fb75da-39d9-45f0-989e-93b2d7bfa835",
   "metadata": {},
   "outputs": [],
   "source": []
  },
  {
   "cell_type": "code",
   "execution_count": null,
   "id": "c34aa593-f688-4c11-8901-06527a48a95f",
   "metadata": {},
   "outputs": [],
   "source": [
    "!pip install nltk"
   ]
  },
  {
   "cell_type": "code",
   "execution_count": null,
   "id": "c084da54-2b96-4e66-bb19-8d725ff5f24c",
   "metadata": {},
   "outputs": [],
   "source": [
    "import nltk  "
   ]
  },
  {
   "cell_type": "code",
   "execution_count": null,
   "id": "a441c480-67c7-4600-8132-4fc73a420f29",
   "metadata": {},
   "outputs": [],
   "source": [
    "from nltk.stem.porter import PorterStemmer\n",
    "ps = PorterStemmer()"
   ]
  },
  {
   "cell_type": "code",
   "execution_count": null,
   "id": "5157b306-a3ab-4799-be39-17fecbb1755d",
   "metadata": {},
   "outputs": [],
   "source": [
    "def stem(text):\n",
    "    y = []\n",
    "    for i in text.split():\n",
    "        y.append(ps.stem(i))\n",
    "\n",
    "    return ' '.join(y)\n",
    "                             "
   ]
  },
  {
   "cell_type": "code",
   "execution_count": null,
   "id": "b1a69a1c-f590-42cd-a394-b8591a934b41",
   "metadata": {},
   "outputs": [],
   "source": [
    "new_df['tags'] = new_df['tags'].apply(stem)"
   ]
  },
  {
   "cell_type": "code",
   "execution_count": null,
   "id": "7a3d7955-11a8-4188-af1f-e14b097e5aae",
   "metadata": {},
   "outputs": [],
   "source": [
    "new_df['tags']"
   ]
  },
  {
   "cell_type": "code",
   "execution_count": null,
   "id": "7ffbaccf-43bb-4b2c-8f53-8cadabbbe951",
   "metadata": {},
   "outputs": [],
   "source": []
  },
  {
   "cell_type": "code",
   "execution_count": null,
   "id": "c731c38f-e587-4112-8ff9-d57e6c62a0cd",
   "metadata": {},
   "outputs": [],
   "source": [
    "stem('in the 22nd century, a parapleg marin is dispatch to the moon pandora on a uniqu mission, but becom torn between follow order and protect an alien civilization. cultureclash futur spacewar spacecoloni societi spacetravel futurist romanc space alien tribe alienplanet cgi marin soldier battl loveaffair antiwar powerrel mindandsoul 3d action adventur fantasi sciencefict samworthington zoesaldana sigourneyweav stephenlang michellerodriguez giovanniribisi joeldavidmoor cchpounder wesstudi lazalonso dileeprao mattgerald seananthonymoran jasonwhyt scottlawr kellykilgour jamespatrickpitt seanpatrickmurphi peterdillon kevindorman kelsonhenderson davidvanhorn jacobtomuri michaelblain-rozgay joncurri lukehawk woodyschultz petermensah soniay jahnelcurfman ilramchoi kylawarren lisaroumain debrawilson chrismala taylorkibbi jodielandau julielamm cullenb.madden josephbradymadden frankietorr austinwilson sarawilson tamicawashington-mil lucybri nathanmeist gerryblair matthewchamberlain paulyat wraywilson jamesgaylyn melvinlenoclarkiii carvonfutrel brandonjelk micahmoch hanniyahmuhammad christophernolen christaoliv aprilmariethoma bravitaa.threatt colinbleasd mikebodnar mattclayton nicoledionn jamieharrison allanhenri anthonyingrub ashleyjefferi deanknowsley josephmika-hunt terrynotari kaipantano loganpithi stuartpollock raja garethruck rhiansheehan t.j.storm jodietaylor aliciavela-bailey richardwhitesid nikiezambo juleneren')"
   ]
  },
  {
   "cell_type": "code",
   "execution_count": null,
   "id": "6a57133f-f1ab-4188-8bc3-9110fdcfd2a4",
   "metadata": {},
   "outputs": [],
   "source": []
  },
  {
   "cell_type": "markdown",
   "id": "3af8549e-f94d-4947-8fec-428c3fc9c798",
   "metadata": {},
   "source": []
  },
  {
   "cell_type": "code",
   "execution_count": null,
   "id": "1b0d962c-9e8d-42ea-9d67-4d06987672dd",
   "metadata": {},
   "outputs": [],
   "source": [
    "from sklearn.metrics.pairwise import cosine_similarity"
   ]
  },
  {
   "cell_type": "code",
   "execution_count": null,
   "id": "01b4f49c-5e36-48c3-85a1-15ce423e782c",
   "metadata": {},
   "outputs": [],
   "source": [
    "similarity = cosine_similarity(vectors)"
   ]
  },
  {
   "cell_type": "code",
   "execution_count": null,
   "id": "80256959-3a6f-451e-9b4f-fd3847eb87e5",
   "metadata": {},
   "outputs": [],
   "source": [
    "#sorted(list(enumerate(similarity[0])),reverse=True ,key=lambda x:x[1])"
   ]
  },
  {
   "cell_type": "code",
   "execution_count": null,
   "id": "a8c43cb6-95d2-418d-85c8-2f0f54d0ef03",
   "metadata": {},
   "outputs": [],
   "source": [
    "#sorted distances\n",
    "sorted(list(enumerate(similarity[0])) ,reverse=True,key = lambda x : x[1] )[1:6]     #movies distace from 0th path"
   ]
  },
  {
   "cell_type": "code",
   "execution_count": null,
   "id": "32d15777-a038-4b5f-87f2-6d48783dc685",
   "metadata": {},
   "outputs": [],
   "source": [
    "def recommend(movie):                         #agar koi movie dii jye too uss ka sabse paele index nikalna pade gya data ke andar\n",
    "    movie_index = new_df[new_df['title'] == movie].index[0]\n",
    "    ditances = similarity[movie_index]\n",
    "    movies_list = sorted(list(enumerate(ditances)) ,reverse=True,key = lambda x : x[1] )[1:6]\n",
    "\n",
    "\n",
    "    for i in movies_list:\n",
    "        print(new_df.iloc[i[0]].title)\n",
    "        print()\n",
    "\n",
    "\n",
    "\n",
    "    "
   ]
  },
  {
   "cell_type": "code",
   "execution_count": null,
   "id": "f6bf58c0-4f70-47bc-9cb5-2ec3ca808626",
   "metadata": {},
   "outputs": [],
   "source": [
    "recommend(\"Batman Begins\")"
   ]
  },
  {
   "cell_type": "code",
   "execution_count": null,
   "id": "037e81d0-772c-431c-9b7c-2b8487b3c8f2",
   "metadata": {},
   "outputs": [],
   "source": [
    "new_df.iloc[1214].title"
   ]
  },
  {
   "cell_type": "code",
   "execution_count": null,
   "id": "f0d9c38a-d2ce-4bc1-84fc-f93eef6b92e0",
   "metadata": {},
   "outputs": [],
   "source": [
    "new_df[new_df['title'] == \"Avatar\"].index[0]"
   ]
  },
  {
   "cell_type": "code",
   "execution_count": null,
   "id": "117b3ade-1645-4dee-8603-44a34efd6415",
   "metadata": {},
   "outputs": [],
   "source": [
    "new_df.head(0)"
   ]
  },
  {
   "cell_type": "code",
   "execution_count": null,
   "id": "540b16bd-1e0e-48d7-b6d2-d40a8065bef9",
   "metadata": {},
   "outputs": [],
   "source": []
  },
  {
   "cell_type": "code",
   "execution_count": null,
   "id": "2e2ae531-136e-4fb4-94c4-96c762ff7953",
   "metadata": {},
   "outputs": [],
   "source": [
    "import pickle "
   ]
  },
  {
   "cell_type": "code",
   "execution_count": null,
   "id": "e273c0b6-d119-47a6-99dc-afa95eee0ff5",
   "metadata": {},
   "outputs": [],
   "source": [
    "pickle.dump(new_df,open('movies.pkl','wb'))"
   ]
  },
  {
   "cell_type": "code",
   "execution_count": null,
   "id": "5813c414-a66a-40c0-a979-2a4cf651f277",
   "metadata": {},
   "outputs": [],
   "source": []
  },
  {
   "cell_type": "code",
   "execution_count": null,
   "id": "9ad2bd30-ae44-45fd-826e-ca139467c680",
   "metadata": {},
   "outputs": [],
   "source": [
    "new_df['title'].values"
   ]
  },
  {
   "cell_type": "code",
   "execution_count": null,
   "id": "a742e408-09a5-44e5-af6c-93a7879ed98c",
   "metadata": {},
   "outputs": [],
   "source": []
  },
  {
   "cell_type": "code",
   "execution_count": null,
   "id": "5900e79a-b138-41b9-b56e-2942d8f80cbe",
   "metadata": {},
   "outputs": [],
   "source": [
    "new_df.to_dict()"
   ]
  },
  {
   "cell_type": "code",
   "execution_count": null,
   "id": "36e8320b-8767-41d1-bd3a-2c9d5bafe596",
   "metadata": {},
   "outputs": [],
   "source": [
    "pickle.dump(new_df.to_dict(),open('movie_dict.pkl','wb'))"
   ]
  },
  {
   "cell_type": "code",
   "execution_count": null,
   "id": "f3b22d85-ccbe-43b3-9166-dd6ebd65a5f6",
   "metadata": {},
   "outputs": [],
   "source": [
    "pickle.dump(similarity,open('similarity.pkl','wb'))"
   ]
  },
  {
   "cell_type": "code",
   "execution_count": null,
   "id": "59a4e108-3732-4717-97e0-7580ec59f055",
   "metadata": {},
   "outputs": [],
   "source": []
  },
  {
   "cell_type": "code",
   "execution_count": 1,
   "id": "bae32eb4-e062-428b-a9b2-7c7b612f38bb",
   "metadata": {},
   "outputs": [
    {
     "ename": "SyntaxError",
     "evalue": "invalid syntax (640951514.py, line 1)",
     "output_type": "error",
     "traceback": [
      "\u001b[1;36m  Cell \u001b[1;32mIn[1], line 1\u001b[1;36m\u001b[0m\n\u001b[1;33m    jupyter nbconvert --validate your_notebook.ipynb\u001b[0m\n\u001b[1;37m            ^\u001b[0m\n\u001b[1;31mSyntaxError\u001b[0m\u001b[1;31m:\u001b[0m invalid syntax\n"
     ]
    }
   ],
   "source": [
    "jupyter nbconvert --validate your_notebook.ipynb\n",
    "\n"
   ]
  },
  {
   "cell_type": "code",
   "execution_count": 3,
   "id": "21b45172-5e11-4a60-a418-3444aef14b3a",
   "metadata": {},
   "outputs": [
    {
     "ename": "SyntaxError",
     "evalue": "invalid syntax (2998803418.py, line 1)",
     "output_type": "error",
     "traceback": [
      "\u001b[1;36m  Cell \u001b[1;32mIn[3], line 1\u001b[1;36m\u001b[0m\n\u001b[1;33m    jupyter nbconvert --validate Movie-Recommend-System.ipynb\u001b[0m\n\u001b[1;37m            ^\u001b[0m\n\u001b[1;31mSyntaxError\u001b[0m\u001b[1;31m:\u001b[0m invalid syntax\n"
     ]
    }
   ],
   "source": [
    "jupyter nbconvert --validate Movie-Recommend-System.ipynb\n"
   ]
  },
  {
   "cell_type": "code",
   "execution_count": null,
   "id": "a9351e53-999a-4624-af7f-dff59f417e87",
   "metadata": {},
   "outputs": [],
   "source": []
  }
 ],
 "metadata": {
  "kernelspec": {
   "display_name": "Python 3 (ipykernel)",
   "language": "python",
   "name": "python3"
  },
  "language_info": {
   "codemirror_mode": {
    "name": "ipython",
    "version": 3
   },
   "file_extension": ".py",
   "mimetype": "text/x-python",
   "name": "python",
   "nbconvert_exporter": "python",
   "pygments_lexer": "ipython3",
   "version": "3.12.4"
  }
 },
 "nbformat": 4,
 "nbformat_minor": 5
}
